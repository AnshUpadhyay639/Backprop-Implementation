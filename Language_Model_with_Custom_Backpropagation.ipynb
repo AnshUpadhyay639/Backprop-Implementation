{
  "nbformat": 4,
  "nbformat_minor": 0,
  "metadata": {
    "colab": {
      "provenance": [],
      "authorship_tag": "ABX9TyNuwNa2vEiZ6O168GqZ+sGv",
      "include_colab_link": true
    },
    "kernelspec": {
      "name": "python3",
      "display_name": "Python 3"
    },
    "language_info": {
      "name": "python"
    }
  },
  "cells": [
    {
      "cell_type": "markdown",
      "metadata": {
        "id": "view-in-github",
        "colab_type": "text"
      },
      "source": [
        "<a href=\"https://colab.research.google.com/github/AnshUpadhyay639/Backprop-Implementation/blob/main/Language_Model_with_Custom_Backpropagation.ipynb\" target=\"_parent\"><img src=\"https://colab.research.google.com/assets/colab-badge.svg\" alt=\"Open In Colab\"/></a>"
      ]
    },
    {
      "cell_type": "code",
      "execution_count": null,
      "metadata": {
        "id": "Dxmxr5hDxOVx"
      },
      "outputs": [],
      "source": [
        "import torch\n",
        "import torch.nn.functional as F\n",
        "import matplotlib.pyplot as plt # for making figures\n",
        "%matplotlib inline"
      ]
    },
    {
      "cell_type": "code",
      "source": [
        "# read in all the words\n",
        "words = open('names.txt', 'r').read().splitlines()\n",
        "print(len(words))\n",
        "print(max(len(w) for w in words))\n",
        "print(words[:8])"
      ],
      "metadata": {
        "colab": {
          "base_uri": "https://localhost:8080/"
        },
        "id": "5sBBm9BYyZP9",
        "outputId": "c69edce2-b2ef-467f-e6a9-c32951488e02"
      },
      "execution_count": null,
      "outputs": [
        {
          "output_type": "stream",
          "name": "stdout",
          "text": [
            "32033\n",
            "15\n",
            "['emma', 'olivia', 'ava', 'isabella', 'sophia', 'charlotte', 'mia', 'amelia']\n"
          ]
        }
      ]
    },
    {
      "cell_type": "code",
      "source": [
        "# build the vocabulary of characters and mappings to/from integers\n",
        "chars = sorted(list(set(''.join(words))))\n",
        "stoi = {s:i+1 for i,s in enumerate(chars)}\n",
        "stoi['.'] = 0\n",
        "itos = {i:s for s,i in stoi.items()}\n",
        "vocab_size = len(itos)\n",
        "print(itos)\n",
        "print(vocab_size)"
      ],
      "metadata": {
        "colab": {
          "base_uri": "https://localhost:8080/"
        },
        "id": "6VSISRJjycii",
        "outputId": "69fb43e2-143d-4b2b-dacf-b67d5ab393e1"
      },
      "execution_count": null,
      "outputs": [
        {
          "output_type": "stream",
          "name": "stdout",
          "text": [
            "{1: 'a', 2: 'b', 3: 'c', 4: 'd', 5: 'e', 6: 'f', 7: 'g', 8: 'h', 9: 'i', 10: 'j', 11: 'k', 12: 'l', 13: 'm', 14: 'n', 15: 'o', 16: 'p', 17: 'q', 18: 'r', 19: 's', 20: 't', 21: 'u', 22: 'v', 23: 'w', 24: 'x', 25: 'y', 26: 'z', 0: '.'}\n",
            "27\n"
          ]
        }
      ]
    },
    {
      "cell_type": "code",
      "source": [
        "# build the dataset\n",
        "block_size = 3 # context length: how many characters do we take to predict the next one?\n",
        "\n",
        "def build_dataset(words):\n",
        "  X, Y = [], []\n",
        "\n",
        "  for w in words:\n",
        "    context = [0] * block_size\n",
        "    for ch in w + '.':\n",
        "      ix = stoi[ch]\n",
        "      X.append(context)\n",
        "      Y.append(ix)\n",
        "      context = context[1:] + [ix] # crop and append\n",
        "\n",
        "  X = torch.tensor(X)\n",
        "  Y = torch.tensor(Y)\n",
        "  print(X.shape, Y.shape)\n",
        "  return X, Y\n",
        "\n",
        "import random\n",
        "random.seed(42)\n",
        "random.shuffle(words)\n",
        "n1 = int(0.8*len(words))\n",
        "n2 = int(0.9*len(words))\n",
        "\n",
        "Xtr,  Ytr  = build_dataset(words[:n1])     # 80%\n",
        "Xdev, Ydev = build_dataset(words[n1:n2])   # 10%\n",
        "Xte,  Yte  = build_dataset(words[n2:])     # 10%"
      ],
      "metadata": {
        "colab": {
          "base_uri": "https://localhost:8080/"
        },
        "id": "3gXGVLNAylFE",
        "outputId": "b4196307-9067-47ad-a0de-fd9e1482b870"
      },
      "execution_count": null,
      "outputs": [
        {
          "output_type": "stream",
          "name": "stdout",
          "text": [
            "torch.Size([182625, 3]) torch.Size([182625])\n",
            "torch.Size([22655, 3]) torch.Size([22655])\n",
            "torch.Size([22866, 3]) torch.Size([22866])\n"
          ]
        }
      ]
    },
    {
      "cell_type": "code",
      "source": [
        "# utility function we will use later when comparing our manualy calculated gradients to PyTorch gradients.\n",
        "def cmp(s, dt, t):\n",
        "  ex = torch.all(dt == t.grad).item() # Exactly Similar.\n",
        "  app = torch.allclose(dt, t.grad) # Approx Similiar.\n",
        "  maxdiff = (dt - t.grad).abs().max().item() # Value with the Highest difference.\n",
        "  print(f'{s:15s} | exact: {str(ex):5s} | approximate: {str(app):5s} | maxdiff: {maxdiff}')"
      ],
      "metadata": {
        "id": "lh2GGFDLyqtd"
      },
      "execution_count": null,
      "outputs": []
    },
    {
      "cell_type": "code",
      "source": [
        "n_embd = 10 # the dimensionality of the character embedding vectors\n",
        "n_hidden = 64 # the number of neurons in the hidden layer of the MLP\n",
        "\n",
        "g = torch.Generator().manual_seed(2147483647) # for reproducibility\n",
        "C  = torch.randn((vocab_size, n_embd), generator=g) # Vocab_size = No. of Characters = 27 with each char represented in 10 features.\n",
        "# Layer 1\n",
        "W1 = torch.randn((n_embd * block_size, n_hidden), generator=g) * (5/3)/((n_embd * block_size)**0.5)\n",
        "b1 = torch.randn(n_hidden, generator=g) * 0.1 # using b1 just for fun, it's useless because of BN\n",
        "# Layer 2\n",
        "W2 = torch.randn((n_hidden, vocab_size), generator=g) * 0.1\n",
        "b2 = torch.randn(vocab_size, generator=g) * 0.1\n",
        "# BatchNorm parameters\n",
        "bngain = torch.randn((1, n_hidden))*0.1 + 1.0\n",
        "bnbias = torch.randn((1, n_hidden))*0.1\n",
        "\n",
        "# Note: I am initializating many of these parameters in non-standard ways\n",
        "# because sometimes initializating with e.g. all zeros could mask an incorrect\n",
        "# implementation of the backward pass.\n",
        "\n",
        "parameters = [C, W1, b1, W2, b2, bngain, bnbias]\n",
        "print(sum(p.nelement() for p in parameters)) # number of parameters in total\n",
        "for p in parameters:\n",
        "  p.requires_grad = True\n",
        "\n",
        "vocab_size"
      ],
      "metadata": {
        "colab": {
          "base_uri": "https://localhost:8080/"
        },
        "id": "tEbRo29jyy_7",
        "outputId": "9c1f4372-ba11-4f12-9f13-462d76473e33"
      },
      "execution_count": null,
      "outputs": [
        {
          "output_type": "stream",
          "name": "stdout",
          "text": [
            "4137\n"
          ]
        },
        {
          "output_type": "execute_result",
          "data": {
            "text/plain": [
              "27"
            ]
          },
          "metadata": {},
          "execution_count": 36
        }
      ]
    },
    {
      "cell_type": "code",
      "source": [
        "batch_size = 32\n",
        "n = batch_size # a shorter variable also, for convenience\n",
        "# construct a minibatch\n",
        "ix = torch.randint(0, Xtr.shape[0], (batch_size,), generator=g) # fetch random 32 indexes.\n",
        "Xb, Yb = Xtr[ix], Ytr[ix] # batch X,Y (First Batch).\n",
        "Xb, Yb"
      ],
      "metadata": {
        "id": "DYvtw7tvy3Z2",
        "colab": {
          "base_uri": "https://localhost:8080/"
        },
        "outputId": "41de5bd3-9506-404e-9912-ca1a40b2f58a"
      },
      "execution_count": null,
      "outputs": [
        {
          "output_type": "execute_result",
          "data": {
            "text/plain": [
              "(tensor([[ 1,  1,  4],\n",
              "         [18, 14,  1],\n",
              "         [11,  5,  9],\n",
              "         [ 0,  0,  1],\n",
              "         [12, 15, 14],\n",
              "         [ 0, 17,  1],\n",
              "         [ 0,  0, 13],\n",
              "         [13, 13,  1],\n",
              "         [ 8, 25, 12],\n",
              "         [ 0,  0, 26],\n",
              "         [22, 15, 14],\n",
              "         [19, 13,  9],\n",
              "         [ 0,  0,  0],\n",
              "         [ 0,  4,  5],\n",
              "         [ 5, 14,  9],\n",
              "         [18,  5,  5],\n",
              "         [ 0,  4,  1],\n",
              "         [ 1, 18,  1],\n",
              "         [ 0,  0,  0],\n",
              "         [ 0,  5, 12],\n",
              "         [ 0, 10,  1],\n",
              "         [ 9, 14,  1],\n",
              "         [ 0,  0,  0],\n",
              "         [ 0,  0, 18],\n",
              "         [20,  5,  1],\n",
              "         [ 0, 11, 15],\n",
              "         [ 0,  0,  7],\n",
              "         [ 0, 18,  5],\n",
              "         [26,  5, 18],\n",
              "         [ 0,  0, 14],\n",
              "         [ 3,  5, 14],\n",
              "         [ 0, 18, 15]]),\n",
              " tensor([ 8, 14, 15, 22,  0, 19,  9, 14,  5,  1, 20,  3,  8, 14, 12,  0, 11,  0,\n",
              "         26,  9, 25,  0,  1,  1,  7, 18,  9,  3,  5,  9,  0, 18]))"
            ]
          },
          "metadata": {},
          "execution_count": 37
        }
      ]
    },
    {
      "cell_type": "code",
      "source": [
        "# forward pass, \"chunkated\" into smaller steps that are possible to backward one at a time\n",
        "emb = C[Xb] # embed the characters into vectors [Feature Embedding: Further Represent those 3 features as 10].\n",
        "embcat = emb.view(emb.shape[0], -1) # concatenate the vectors OR nn.Flatten().[Normalize for Linear layer input = (32,3*10)].\n",
        "# Linear layer 1:\n",
        "hprebn = embcat @ W1 + b1 # hidden layer pre-activation\n",
        "# BatchNorm layer (input logits = hprebn(n=32,features)):\n",
        "bnmeani = 1/n*hprebn.sum(0, keepdim=True) # Summing all the rows i.e(sum of all the 32 samples) to make the shape (1,features) and then dividing it by n=32 gives the current batch mean.\n",
        "bndiff = hprebn - bnmeani # Centering the data points around the Origin (0,0) instead of the mean. So now our Logits will be close to zero.[New mean = 0 but std() remains the same].\n",
        "bndiff2 = bndiff**2 # Defines the Numerator in Variance Formula.\n",
        "bnvar = 1/(n-1)*(bndiff2).sum(0, keepdim=True) # note: Bessel's correction (dividing by n-1, not n) [Variance Calculation].\n",
        "bnvar_inv = (bnvar + 1e-5)**-0.5 #[Inverse Variance : values with low variance (higher precision) are assigned higher weights, and values with high variance (lower precision) are assigned lower weights.][This ensures that data points with higher precision (smaller variance) contribute more to the result].\n",
        "bnraw = bndiff * bnvar_inv # Dividing the centered data with the std (or mul with inv_std {same thing}) we make the new std = 1.[Now the Data points are evenly Scaled and Normalized].\n",
        "hpreact = bngain * bnraw + bnbias #The bngain is the gamma parameter which scales the normalized data, and bnbias is the beta parameter which shifts it. This allows the network to learn the optimal mean and variance for the normalized inputs.\n",
        "# Non-linearity\n",
        "h = torch.tanh(hpreact) # hidden layer\n",
        "# Linear layer 2\n",
        "logits = h @ W2 + b2 # output layer\n",
        "# cross entropy loss (same as F.cross_entropy(logits, Yb))\n",
        "logit_maxes = logits.max(1, keepdim=True).values # Find the highest value amongst all the Logits.\n",
        "norm_logits = logits - logit_maxes # subtract max for numerical stability\n",
        "counts = norm_logits.exp()\n",
        "counts_sum = counts.sum(1, keepdims=True) # Summation along the rows is being performed.\n",
        "counts_sum_inv = counts_sum**-1 # if I use (1.0 / counts_sum) instead then I can't get backprop to be bit exact...[Here we are normalizing the 'counts_sum'].\n",
        "probs = counts * counts_sum_inv #[counts_sum_inv is a Column Tensor so Pytorch replicates this column 27 times to match the other matrix].\n",
        "logprobs = probs.log()\n",
        "loss = -logprobs[range(n), Yb].mean() # loss for 1 batch with \"n\" samples = -1/n*[logprobs(i,yi)].sum() ; dloss/dlogprobs = -1/n * 1[== one-hot(Yb) for all the 32 samples].\n",
        "\n",
        "# PyTorch backward pass\n",
        "for p in parameters:\n",
        "  p.grad = None\n",
        "for t in [logprobs, probs, counts, counts_sum, counts_sum_inv, # afaik(as far as ik) there is no cleaner way\n",
        "          norm_logits, logit_maxes, logits, h, hpreact, bnraw,\n",
        "         bnvar_inv, bnvar, bndiff2, bndiff, hprebn, bnmeani,\n",
        "         embcat, emb]:\n",
        "  t.retain_grad() # So that we can crossverify with PyTorch's Answers.\n",
        "loss.backward()\n",
        "loss"
      ],
      "metadata": {
        "colab": {
          "base_uri": "https://localhost:8080/"
        },
        "id": "gr1pRbtqy7XZ",
        "outputId": "e190d0e9-f634-4bd6-8056-ebbd843a8a65"
      },
      "execution_count": null,
      "outputs": [
        {
          "output_type": "execute_result",
          "data": {
            "text/plain": [
              "tensor(3.3354, grad_fn=<NegBackward0>)"
            ]
          },
          "metadata": {},
          "execution_count": 38
        }
      ]
    },
    {
      "cell_type": "code",
      "source": [
        "emb.shape"
      ],
      "metadata": {
        "colab": {
          "base_uri": "https://localhost:8080/"
        },
        "id": "nL77Xx4r3mdA",
        "outputId": "9a908559-ec11-441d-cb0a-b10d4f348237"
      },
      "execution_count": null,
      "outputs": [
        {
          "output_type": "execute_result",
          "data": {
            "text/plain": [
              "torch.Size([32, 3, 10])"
            ]
          },
          "metadata": {},
          "execution_count": 39
        }
      ]
    },
    {
      "cell_type": "code",
      "source": [
        "# Exercise 1: backprop through the whole thing manually.\n",
        "# backpropagating through exactly all of the variables .\n",
        "# as they are defined in the forward pass above, one by one.\n",
        "# Note: The Gradients || Derrivatives has always the same shape as the OG matrixes.[Common Sense].\n",
        "# Start with the Node before root = loss.grad = 1 [Final Function in DAG].\n",
        "dlogprobs = torch.zeros_like(logprobs) # For Batchsize = n [dlogprobs.shape = (32,27)][We making this matrix as we have to store grads of samples other than those 32 whose grads are 0 for this batch as they dont contribute to the Loss()].\n",
        "dlogprobs[range(n), Yb] = -1.0/n # Now store the gradient for all predicted samples on indexes (given by Yb) in a single batch.[Here out.grad = 1].\n",
        "dprobs = (1.0 / probs) * dlogprobs # [local derrivative/gradient * global gradient(out.grad)][Here we are Boosting the grads of labels with low probs].\n",
        "dcounts_sum_inv = (counts * dprobs).sum(1, keepdim=True) # Here in the probs eqn ,2 operations are performed: Multiplication[Local grad * out.grad] && Replication[ As a single Column Vector will be converted to a row vector during BroadCasting and is then duplicated (used multiple times) to adjust with the shape of the other matrix; We sum the gradients when they are being reused; So as each row is being reused so we are using \".sum(dim=1)\"\" (sums up all the columns) to sum up their grads too].\n",
        "dcounts = counts_sum_inv * dprobs # [Local grad * out.grad][No summation required as there will be BroadCasting w.r.t \"counts\"][Summation will be in counts_sum_inv matrix and not in Counts].\n",
        "dcounts_sum = (-counts_sum**-2) * dcounts_sum_inv #[Local.grad * out.grad].\n",
        "dcounts += torch.ones_like(counts) * dcounts_sum # [[Local.grad * out.grad] where Local.grad is calculated by converting (32,1) matrix to a (32,27); NOW imagine a column tensor 1st element b1(from 32,1 matrix) which is formed after adding a1 + a2 + a3 ; and we already know b1.grad So db1/da1 = 1 same goes for a2 and a3 ; so grads of a1 , a2, a3 == 1 for a single row ; similarly for all the rows the respective grads will be 1][\"+=\" used as \"counts\" is used more than once].\n",
        "dnorm_logits = counts * dcounts #[Local.grad * out.grad where Local.grad = normlogits.exp() == counts only (see above)].\n",
        "dlogits = dnorm_logits.clone() # During '+' or '-' operation the grads are directly transfered but logits have a \"+\" sign so copied grads will be positive][.clone() is an Alt].\n",
        "dlogit_maxes = (-dnorm_logits).sum(1, keepdim=True) # [Logit_maxes has \"-\" sign so -ve logits will be transfered][Replication: Summation of all the Columns will be performed].\n",
        "dlogits += F.one_hot(logits.max(1).indices, num_classes=logits.shape[1]) * dlogit_maxes # [Alternative of what we did to calculate 'dlogprobs'][out.grad = dlogitmaxes].\n",
        "dh = dlogits @ W2.T # [Hint: You can see this if u look at the shapes of root eqn = logits][Derrivation in my Notebook].\n",
        "dW2 = h.T @ dlogits # Same as Above.\n",
        "db2 = dlogits.sum(0) #[Due to \"+\" operation dlogits.grad flows into this][Replication : .sum(0) up all the rows][Derrivation in Notebook].\n",
        "dhpreact = (1.0 - h**2) * dh #[Local.grad * out.grad].\n",
        "dbngain = (bnraw * dhpreact).sum(0, keepdim=True)\n",
        "dbnraw = bngain * dhpreact # We didnt sum here as bnraw matrix has already a same shape as hpreact\n",
        "dbnbias = dhpreact.sum(0, keepdim=True)\n",
        "dbndiff = bnvar_inv * dbnraw\n",
        "dbnvar_inv = (bndiff * dbnraw).sum(0, keepdim=True)\n",
        "dbnvar = (-0.5*(bnvar + 1e-5)**-1.5) * dbnvar_inv #[Local.grad * out.grad].\n",
        "dbndiff2 = (1.0/(n-1))*torch.ones_like(bndiff2) * dbnvar #[Local.grad * out.grad].[Matrix of all 1s because due to summation grads are all 1s. Shape is same as bndiff2].\n",
        "dbndiff += (2*bndiff) * dbndiff2 #[Local.grad * out.grad].\n",
        "dhprebn = dbndiff.clone() # Gradient flows/copies due to \"+\" sign.\n",
        "dbnmeani = (-dbndiff).sum(0) # Gradient flows/copies due to \"-\" sign.[Replication: .sum(0)].[This gradient will return False during comparison below as it is not completely made up of leaf nodes; Its 1 Node dependencies goes further].\n",
        "dhprebn += 1.0/n * (torch.ones_like(hprebn) * dbnmeani) # [Converse Rule: BroadCasting happens in backward pass as .sum() is used in the Forward Pass].\n",
        "dembcat = dhprebn @ W1.T\n",
        "dW1 = embcat.T @ dhprebn\n",
        "db1 = dhprebn.sum(0)\n",
        "demb = dembcat.view(emb.shape) # Re-represent the Original View of what shape it was before i.e [Make demb.shape = emb.shape but also include out.shape].\n",
        "dC = torch.zeros_like(C) # First replicate an empty C.\n",
        "for k in range(Xb.shape[0]): # Not iterate over Xb rows and cols and fill dC.\n",
        "  for j in range(Xb.shape[1]):\n",
        "    ix = Xb[k,j] # Pluck out each value.\n",
        "    dC[ix] += demb[k,j] # Place it in right position of dC using out.matrix[Use \"+=\" as there can be multiple 'ix' with same value so add their grads].\n",
        "\n",
        "# Verifying our grads with PyTorch.grads:\n",
        "cmp('logprobs', dlogprobs, logprobs)\n",
        "cmp('probs', dprobs, probs)\n",
        "cmp('counts_sum_inv', dcounts_sum_inv, counts_sum_inv)\n",
        "cmp('counts_sum', dcounts_sum, counts_sum)\n",
        "cmp('counts', dcounts, counts)\n",
        "cmp('norm_logits', dnorm_logits, norm_logits)\n",
        "cmp('logit_maxes', dlogit_maxes, logit_maxes)\n",
        "cmp('logits', dlogits, logits)\n",
        "cmp('h', dh, h)\n",
        "cmp('W2', dW2, W2)\n",
        "cmp('b2', db2, b2)\n",
        "cmp('hpreact', dhpreact, hpreact)\n",
        "cmp('bngain', dbngain, bngain)\n",
        "cmp('bnbias', dbnbias, bnbias)\n",
        "cmp('bnraw', dbnraw, bnraw)\n",
        "cmp('bnvar_inv', dbnvar_inv, bnvar_inv)\n",
        "cmp('bnvar', dbnvar, bnvar)\n",
        "cmp('bndiff2', dbndiff2, bndiff2)\n",
        "cmp('bndiff', dbndiff, bndiff)\n",
        "cmp('bnmeani', dbnmeani, bnmeani)\n",
        "cmp('hprebn', dhprebn, hprebn)\n",
        "cmp('embcat', dembcat, embcat)\n",
        "cmp('W1', dW1, W1)\n",
        "cmp('b1', db1, b1)\n",
        "cmp('emb', demb, emb)\n",
        "cmp('C', dC, C)"
      ],
      "metadata": {
        "colab": {
          "base_uri": "https://localhost:8080/"
        },
        "id": "GVbHf-dmy-6d",
        "outputId": "1afe2bc0-c3bd-4bee-ecb5-5fe4e00f0b76"
      },
      "execution_count": null,
      "outputs": [
        {
          "output_type": "stream",
          "name": "stdout",
          "text": [
            "logprobs        | exact: True  | approximate: True  | maxdiff: 0.0\n",
            "probs           | exact: True  | approximate: True  | maxdiff: 0.0\n",
            "counts_sum_inv  | exact: True  | approximate: True  | maxdiff: 0.0\n",
            "counts_sum      | exact: True  | approximate: True  | maxdiff: 0.0\n",
            "counts          | exact: True  | approximate: True  | maxdiff: 0.0\n",
            "norm_logits     | exact: True  | approximate: True  | maxdiff: 0.0\n",
            "logit_maxes     | exact: True  | approximate: True  | maxdiff: 0.0\n",
            "logits          | exact: True  | approximate: True  | maxdiff: 0.0\n",
            "h               | exact: True  | approximate: True  | maxdiff: 0.0\n",
            "W2              | exact: True  | approximate: True  | maxdiff: 0.0\n",
            "b2              | exact: True  | approximate: True  | maxdiff: 0.0\n",
            "hpreact         | exact: False | approximate: True  | maxdiff: 9.313225746154785e-10\n",
            "bngain          | exact: False | approximate: True  | maxdiff: 1.862645149230957e-09\n",
            "bnbias          | exact: False | approximate: True  | maxdiff: 3.725290298461914e-09\n",
            "bnraw           | exact: False | approximate: True  | maxdiff: 9.313225746154785e-10\n",
            "bnvar_inv       | exact: False | approximate: True  | maxdiff: 3.725290298461914e-09\n",
            "bnvar           | exact: False | approximate: True  | maxdiff: 1.3969838619232178e-09\n",
            "bndiff2         | exact: False | approximate: True  | maxdiff: 5.820766091346741e-11\n",
            "bndiff          | exact: False | approximate: True  | maxdiff: 9.313225746154785e-10\n",
            "bnmeani         | exact: False | approximate: True  | maxdiff: 2.7939677238464355e-09\n",
            "hprebn          | exact: False | approximate: True  | maxdiff: 9.313225746154785e-10\n",
            "embcat          | exact: False | approximate: True  | maxdiff: 1.3969838619232178e-09\n",
            "W1              | exact: False | approximate: True  | maxdiff: 5.587935447692871e-09\n",
            "b1              | exact: False | approximate: True  | maxdiff: 3.259629011154175e-09\n",
            "emb             | exact: False | approximate: True  | maxdiff: 1.3969838619232178e-09\n",
            "C               | exact: False | approximate: True  | maxdiff: 3.725290298461914e-09\n"
          ]
        }
      ]
    },
    {
      "cell_type": "code",
      "source": [
        "# Exercise 2: backprop through cross_entropy but all in one go\n",
        "# to complete this challenge look at the mathematical expression of the loss,\n",
        "# take the derivative, simplify the expression, and just write it out\n",
        "\n",
        "# forward pass\n",
        "\n",
        "# before:\n",
        "\n",
        "  # logit_maxes = logits.max(1, keepdim=True).values\n",
        "  # norm_logits = logits - logit_maxes # subtract max for numerical stability\n",
        "  # counts = norm_logits.exp()\n",
        "  # counts_sum = counts.sum(1, keepdims=True)\n",
        "  # counts_sum_inv = counts_sum**-1 # if I use (1.0 / counts_sum) instead then I can't get backprop to be bit exact...\n",
        "  # probs = counts * counts_sum_inv\n",
        "  # logprobs = probs.log()\n",
        "  # loss = -logprobs[range(n), Yb].mean()\n",
        "\n",
        "# now:\n",
        "loss_fast = F.cross_entropy(logits, Yb) # Now we can calculate 'dlogits' directly. [Function of Cross_Entropy() uses SoftMAX for a single sample it does: 1. Perform .exp() ||||2. Divid by .sum() of all exps to make them in range (0,1) Softmax part done |||| 3. Perform -log (O/p of Softmax)].\n",
        "print(loss_fast.item(), 'diff:', (loss_fast - loss).item()) # Now we have to find \"dL/dlogiti\" for back prop grads."
      ],
      "metadata": {
        "colab": {
          "base_uri": "https://localhost:8080/"
        },
        "id": "hsltyzxfzEwW",
        "outputId": "45db0da0-842d-452e-b2f2-211a65a510bc"
      },
      "execution_count": null,
      "outputs": [
        {
          "output_type": "stream",
          "name": "stdout",
          "text": [
            "3.335381031036377 diff: 2.384185791015625e-07\n"
          ]
        }
      ]
    },
    {
      "cell_type": "code",
      "source": [
        "# backward pass\n",
        "# See in Notebook where the below came from:\n",
        "dlogits = F.softmax(logits, 1) # Here dim = 1 means we want to do the softmax for a single data point(summing all the single row elements || Summation ALONG the rows) that is adding the columns (divide each exp() of a row divide by sum of columns.exp()).\n",
        "dlogits[range(n), Yb] -= 1 # If Logiti == Yb we substract that by 1.(To make them move more towards -ve gradient direction)[Look derrivation in Notebook][This is dlogits for a single sample].\n",
        "dlogits /= n # To get the Average dlogits of a batch you divide by batchsize.\n",
        "\n",
        "cmp('logits', dlogits, logits) # I can only get approximate to be true, my maxdiff is 7e-9"
      ],
      "metadata": {
        "colab": {
          "base_uri": "https://localhost:8080/"
        },
        "id": "isegztHCzKM7",
        "outputId": "548dbee8-9e0b-424c-ade8-e9752cbf195e"
      },
      "execution_count": null,
      "outputs": [
        {
          "output_type": "stream",
          "name": "stdout",
          "text": [
            "logits          | exact: False | approximate: True  | maxdiff: 7.450580596923828e-09\n"
          ]
        }
      ]
    },
    {
      "cell_type": "code",
      "source": [
        "# Visualizing \"dlogits\" of Shape(32,27):\n",
        "plt.figure(figsize=(4, 4)) # Black spots are the position of corrected idx where we substracted 1 so that they move more closely towards -ve grad direction.\n",
        "plt.imshow(dlogits.detach(), cmap='gray') # These Black sq are pulled up by a force of dlogits[blacki] which is basically the grad and vice versa white is pulled down."
      ],
      "metadata": {
        "id": "xTopk5MmzNk3",
        "colab": {
          "base_uri": "https://localhost:8080/",
          "height": 386
        },
        "outputId": "195916c9-1a0c-464e-b571-ce3ef3af2d15"
      },
      "execution_count": null,
      "outputs": [
        {
          "output_type": "execute_result",
          "data": {
            "text/plain": [
              "<matplotlib.image.AxesImage at 0x7de5516b8b50>"
            ]
          },
          "metadata": {},
          "execution_count": 45
        },
        {
          "output_type": "display_data",
          "data": {
            "text/plain": [
              "<Figure size 400x400 with 1 Axes>"
            ],
            "image/png": "[encoded data removed]"
          },
          "metadata": {}
        }
      ]
    },
    {
      "cell_type": "code",
      "source": [
        "# Exercise 3: backprop through batchnorm but all in one go.\n",
        "# to complete this challenge look at the mathematical expression of the output of batchnorm,\n",
        "# take the derivative w.r.t. its input, simplify the expression, and just write it out\n",
        "\n",
        "# forward pass\n",
        "\n",
        "# before:\n",
        "  # bnmeani = 1/n*hprebn.sum(0, keepdim=True)\n",
        "  # bndiff = hprebn - bnmeani\n",
        "  # bndiff2 = bndiff**2\n",
        "  # bnvar = 1/(n-1)*(bndiff2).sum(0, keepdim=True) # note: Bessel's correction (dividing by n-1, not n)\n",
        "  # bnvar_inv = (bnvar + 1e-5)**-0.5\n",
        "  # bnraw = bndiff * bnvar_inv\n",
        "  # hpreact = bngain * bnraw + bnbias\n",
        "\n",
        "# now:\n",
        "hpreact_fast = bngain * (hprebn - hprebn.mean(0, keepdim=True)) / torch.sqrt(hprebn.var(0, keepdim=True, unbiased=True) + 1e-5) + bnbias\n",
        "print('max diff:', (hpreact_fast - hpreact).abs().max())"
      ],
      "metadata": {
        "colab": {
          "base_uri": "https://localhost:8080/"
        },
        "id": "TmgnTYD0vEmQ",
        "outputId": "ff42bcbb-bf47-476f-ecd5-4c6870ade7c7"
      },
      "execution_count": null,
      "outputs": [
        {
          "output_type": "stream",
          "name": "stdout",
          "text": [
            "max diff: tensor(4.7684e-07, grad_fn=<MaxBackward1>)\n"
          ]
        }
      ]
    },
    {
      "cell_type": "code",
      "source": [
        "# backward pass\n",
        "\n",
        "# before we had:\n",
        "# dbnraw = bngain * dhpreact\n",
        "# dbndiff = bnvar_inv * dbnraw\n",
        "# dbnvar_inv = (bndiff * dbnraw).sum(0, keepdim=True)\n",
        "# dbnvar = (-0.5*(bnvar + 1e-5)**-1.5) * dbnvar_inv\n",
        "# dbndiff2 = (1.0/(n-1))*torch.ones_like(bndiff2) * dbnvar\n",
        "# dbndiff += (2*bndiff) * dbndiff2\n",
        "# dhprebn = dbndiff.clone()\n",
        "# dbnmeani = (-dbndiff).sum(0)\n",
        "# dhprebn += 1.0/n * (torch.ones_like(hprebn) * dbnmeani)\n",
        "\n",
        "# calculate dhprebn given dhpreact (i.e. backprop through the batchnorm)\n",
        "# (you'll also need to use some of the variables from the forward pass up above)\n",
        "\n",
        "dhprebn = bngain*bnvar_inv/n * (n*dhpreact - dhpreact.sum(0) - n/(n-1)*bnraw*(dhpreact*bnraw).sum(0)) # Backprop expression fora single batch of 32 for BatchNorm1D [Refer to Notebook for derrivation of a single sample].\n",
        "\n",
        "cmp('hprebn', dhprebn, hprebn) # I can only get approximate to be true, my maxdiff is 9e-10"
      ],
      "metadata": {
        "colab": {
          "base_uri": "https://localhost:8080/"
        },
        "id": "2nv5ndBNxLIk",
        "outputId": "b64e00f8-953b-4a92-bf9d-62f33ed6bcfc"
      },
      "execution_count": null,
      "outputs": [
        {
          "output_type": "stream",
          "name": "stdout",
          "text": [
            "hprebn          | exact: False | approximate: True  | maxdiff: 9.313225746154785e-10\n"
          ]
        }
      ]
    },
    {
      "cell_type": "code",
      "source": [],
      "metadata": {
        "id": "2p4vmoEfxPX_"
      },
      "execution_count": null,
      "outputs": []
    }
  ]
}